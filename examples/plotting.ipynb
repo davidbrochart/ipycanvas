{
 "cells": [
  {
   "cell_type": "markdown",
   "metadata": {},
   "source": [
    "# Custom plotting library fully in Python!"
   ]
  },
  {
   "cell_type": "code",
   "execution_count": null,
   "metadata": {},
   "outputs": [],
   "source": [
    "from math import pi\n",
    "\n",
    "import numpy as np\n",
    "\n",
    "import branca\n",
    "\n",
    "from ipywidgets import VBox, IntSlider\n",
    "\n",
    "from ipycanvas import MultiCanvas, hold_canvas"
   ]
  },
  {
   "cell_type": "code",
   "execution_count": null,
   "metadata": {},
   "outputs": [],
   "source": [
    "def init_2d_plot(x, y, color=None, scheme=branca.colormap.linear.RdBu_11, canvas=None, canvas_size=(800, 600), padding=0.1):\n",
    "    if canvas is None:\n",
    "        canvas = MultiCanvas(4, size=canvas_size)\n",
    "    else:\n",
    "        canvas.size = canvas_size\n",
    "\n",
    "    padding_x = padding * canvas_size[0]\n",
    "    padding_y = padding * canvas_size[1]\n",
    "\n",
    "    # TODO Fix drawarea max: It should be (canvas.size - padding)\n",
    "    drawarea = (drawarea_min_x, drawarea_min_y, drawarea_max_x, drawarea_max_y) = (padding_x, padding_y, canvas_size[0] - 2 * padding_x, canvas_size[1] - 2 * padding_y)\n",
    "\n",
    "    min_x, min_y, max_x, max_y = np.min(x), np.min(y), np.max(x), np.max(y)\n",
    "\n",
    "    dx = max_x - min_x\n",
    "    dy = max_y - min_y\n",
    "\n",
    "    # Turns a data coordinate into pixel coordinate\n",
    "    scale_x = lambda x: drawarea_max_x * (x - min_x) / dx + drawarea_min_x\n",
    "    scale_y = lambda y: drawarea_max_y * (1 - (y - min_y) / dy) + drawarea_min_y\n",
    "\n",
    "    # Turns a pixel coordinate into data coordinate\n",
    "    unscale_x = lambda sx: (sx - drawarea_min_x) * dx / drawarea_max_x + min_x\n",
    "    unscale_y = lambda sy: (1 - ((sy - drawarea_min_y) / drawarea_max_y)) * dy + min_y\n",
    "\n",
    "    colormap = None\n",
    "    if color is not None:\n",
    "        colormap = scheme.scale(np.min(color), np.max(color))        \n",
    "\n",
    "    return canvas, drawarea, scale_x, scale_y, unscale_x, unscale_y, colormap"
   ]
  },
  {
   "cell_type": "code",
   "execution_count": null,
   "metadata": {},
   "outputs": [],
   "source": [
    "def draw_background(canvas, drawarea, unscale_x, unscale_y):\n",
    "    drawarea_min_x, drawarea_min_y, drawarea_max_x, drawarea_max_y = drawarea\n",
    "\n",
    "    # Draw background\n",
    "    canvas.fill_style = '#f7f7f7'\n",
    "    canvas.global_alpha = 0.3\n",
    "    canvas.fill_rect(drawarea_min_x, drawarea_min_y, drawarea_max_x, drawarea_max_y)\n",
    "    canvas.global_alpha = 1\n",
    "\n",
    "    # Draw grid and ticks\n",
    "    n_lines = 10\n",
    "    canvas.fill_style = 'black'\n",
    "    canvas.stroke_style = '#8c8c8c'\n",
    "    canvas.line_width = 1\n",
    "    canvas.begin_path()\n",
    "\n",
    "    for i in range(n_lines):\n",
    "        j = i / (n_lines - 1)\n",
    "        line_x = drawarea_max_x * j + drawarea_min_x\n",
    "        line_y = drawarea_max_y * j + drawarea_min_y\n",
    "\n",
    "        # Line on the y axis\n",
    "        canvas.move_to(line_x, drawarea_min_y)\n",
    "        canvas.line_to(line_x, drawarea_max_y + drawarea_min_y)\n",
    "\n",
    "        # Line on the x axis\n",
    "        canvas.move_to(drawarea_min_x, line_y)\n",
    "        canvas.line_to(drawarea_max_x + drawarea_min_x, line_y)\n",
    "\n",
    "        # Draw y tick\n",
    "        canvas.text_align = 'right'\n",
    "        canvas.text_baseline = 'middle'\n",
    "        canvas.fill_text('{0:.2e}'.format(unscale_y(line_y)), drawarea_min_x * 0.95, line_y)\n",
    "\n",
    "        # Draw x tick\n",
    "        canvas.text_align = 'center'\n",
    "        canvas.text_baseline = 'top'\n",
    "        canvas.fill_text('{0:.2e}'.format(unscale_x(line_x)), line_x, drawarea_max_y + drawarea_min_y + drawarea_min_y * 0.05)\n",
    "\n",
    "    canvas.stroke()\n",
    "    canvas.close_path()"
   ]
  },
  {
   "cell_type": "code",
   "execution_count": null,
   "metadata": {},
   "outputs": [],
   "source": [
    "class Scatter_plot(object):\n",
    "    def __init__(self, x, y, size, color, scheme=branca.colormap.linear.RdBu_11, stroke_color='black', canvas=None):\n",
    "\n",
    "        self.i_mark = None\n",
    "        self.dragging = False\n",
    "        self.x = x\n",
    "        self.y = y\n",
    "        self.size = size\n",
    "        self.color = color\n",
    "        self.stroke_color = stroke_color\n",
    "        self.canvas, self.drawarea, self.scale_x, self.scale_y, self.unscale_x, self.unscale_y, self.colormap = init_2d_plot(x, y, color, scheme, canvas=canvas)\n",
    "        self.show()\n",
    "        \n",
    "        self.canvas[3].on_mouse_down(self.mouse_down_handler)\n",
    "        self.canvas[3].on_mouse_move(self.mouse_move_handler)\n",
    "        self.canvas[3].on_mouse_up(self.mouse_up_handler)\n",
    "\n",
    "    def _ipython_display_(self):\n",
    "        display(self.canvas)\n",
    "\n",
    "    def show(self, show_idx=None, skip_idx=None):\n",
    "        with hold_canvas(self.canvas):\n",
    "            self.canvas.clear()\n",
    "            self.canvas[1].save()\n",
    "\n",
    "            draw_background(self.canvas[0], self.drawarea, self.unscale_x, self.unscale_y)\n",
    "\n",
    "            # Draw scatter\n",
    "            self.n_marks = min(x.shape[0], y.shape[0], self.size.shape[0], self.color.shape[0])\n",
    "\n",
    "            self.canvas[1].stroke_style = self.stroke_color\n",
    "            self.canvas[2].stroke_style = self.stroke_color\n",
    "\n",
    "            for idx in range(self.n_marks):\n",
    "                if idx != skip_idx:\n",
    "                    self.show_point(idx, 1)\n",
    "\n",
    "            self.canvas[1].restore()\n",
    "\n",
    "    def show_point(self, idx, i_canvas):\n",
    "        self.canvas[i_canvas].fill_style = self.colormap(self.color[idx])\n",
    "\n",
    "        mark_x = self.scale_x(self.x[idx])\n",
    "        mark_y = self.scale_y(self.y[idx])\n",
    "        mark_size = self.size[idx]\n",
    "\n",
    "        self.canvas[i_canvas].fill_arc(mark_x, mark_y, mark_size, 0, 2 * pi)\n",
    "        self.canvas[i_canvas].stroke_arc(mark_x, mark_y, mark_size, 0, 2 * pi)\n",
    "                        \n",
    "    def mouse_down_handler(self, pixel_x, pixel_y):\n",
    "        for idx in range(self.n_marks):\n",
    "            mark_x = self.x[idx]\n",
    "            mark_y = self.y[idx]\n",
    "            mark_size = self.size[idx]\n",
    "\n",
    "            if (pixel_x > self.scale_x(mark_x) - mark_size and pixel_x < self.scale_x(mark_x) + mark_size and\n",
    "                pixel_y > self.scale_y(mark_y) - mark_size and pixel_y < self.scale_y(mark_y) + mark_size):\n",
    "                self.i_mark = idx\n",
    "                self.dragging = True\n",
    "                break\n",
    "        \n",
    "        if self.dragging:\n",
    "            self.show(skip_idx=self.i_mark)\n",
    "                \n",
    "    def mouse_move_handler(self, pixel_x, pixel_y):\n",
    "        if self.dragging:\n",
    "            unscaled_x = self.unscale_x(pixel_x)\n",
    "            unscaled_y = self.unscale_y(pixel_y)\n",
    "            self.x[self.i_mark] = unscaled_x\n",
    "            self.y[self.i_mark] = unscaled_y\n",
    "            self.canvas[2].clear()\n",
    "            self.show_point(self.i_mark, 2)\n",
    "                    \n",
    "    def mouse_up_handler(self, pixel_x, pixel_y):\n",
    "        self.dragging = False"
   ]
  },
  {
   "cell_type": "code",
   "execution_count": null,
   "metadata": {},
   "outputs": [],
   "source": [
    "def line_plot(x, y, line_color='#749cb8', line_width=2, canvas=None):\n",
    "    canvas, drawarea, scale_x, scale_y, unscale_x, unscale_y, _ = init_2d_plot(x, y, canvas=canvas)\n",
    "\n",
    "    with hold_canvas(canvas):\n",
    "        canvas.clear()\n",
    "        canvas[1].save()\n",
    "\n",
    "        draw_background(canvas[0], drawarea, unscale_x, unscale_y)\n",
    "\n",
    "        # Draw lines\n",
    "        n_points = min(x.shape[0], y.shape[0])\n",
    "\n",
    "        canvas[1].begin_path()\n",
    "        canvas[1].stroke_style = line_color\n",
    "        canvas[1].line_width = line_width\n",
    "        canvas[1].line_join = 'bevel'\n",
    "        canvas[1].line_cap = 'round'\n",
    "        canvas[1].move_to(scale_x(x[0]), scale_y(y[0]))\n",
    "        for idx in range(1, n_points):\n",
    "            canvas[1].line_to(\n",
    "                scale_x(x[idx]), scale_y(y[idx])\n",
    "            )\n",
    "\n",
    "        canvas[1].stroke()\n",
    "        canvas[1].close_path()\n",
    "        \n",
    "        canvas[1].restore()\n",
    "\n",
    "    return canvas"
   ]
  },
  {
   "cell_type": "code",
   "execution_count": null,
   "metadata": {},
   "outputs": [],
   "source": [
    "def heatmap_plot(x, y, color, scheme=branca.colormap.linear.RdBu_11, canvas=None):\n",
    "    canvas, drawarea, scale_x, scale_y, unscale_x, unscale_y, colormap = init_2d_plot(x, y, color, scheme, canvas=canvas)\n",
    "\n",
    "    outof_x_bound = lambda idx: True if idx >= x.shape[0] or idx < 0 else False\n",
    "    outof_y_bound = lambda idx: True if idx >= y.shape[0] or idx < 0 else False\n",
    "\n",
    "    with hold_canvas(canvas):\n",
    "        canvas.clear()\n",
    "        canvas[1].save()\n",
    "\n",
    "        draw_background(canvas[0], drawarea, unscale_x, unscale_y)\n",
    "\n",
    "        # Draw heatmap\n",
    "        n_marks = min(x.shape[0], y.shape[0])\n",
    "\n",
    "        for x_idx in range(1, color.shape[0] - 1):\n",
    "            for y_idx in range(1, color.shape[1] - 1):\n",
    "                canvas[1].fill_style = colormap(color[x_idx][y_idx])\n",
    "\n",
    "                rect_center = (scale_x(x[x_idx]), scale_y(y[y_idx]))\n",
    "                neighbours_x = (scale_x(x[x_idx - 1]), scale_x(x[x_idx + 1]))\n",
    "                neighbours_y = (scale_y(y[y_idx - 1]), scale_y(y[y_idx + 1]))\n",
    "\n",
    "                rect_top_left_corner = ((neighbours_x[0] + rect_center[0]) / 2, (neighbours_y[0] + rect_center[1]) / 2)\n",
    "                rect_low_right_corner = ((neighbours_x[1] + rect_center[0]) / 2, (neighbours_y[1] + rect_center[1]) / 2)\n",
    "\n",
    "                width = rect_low_right_corner[0] - rect_top_left_corner[0]\n",
    "                height = rect_low_right_corner[1] - rect_top_left_corner[1]\n",
    "\n",
    "                canvas[1].fill_rect(\n",
    "                    rect_top_left_corner[0], rect_top_left_corner[1],\n",
    "                    width, height\n",
    "                )\n",
    "\n",
    "        canvas[1].restore()\n",
    "\n",
    "    return canvas"
   ]
  },
  {
   "cell_type": "markdown",
   "metadata": {},
   "source": [
    "# Scatter plot"
   ]
  },
  {
   "cell_type": "code",
   "execution_count": null,
   "metadata": {},
   "outputs": [],
   "source": [
    "n_points = 1_000"
   ]
  },
  {
   "cell_type": "markdown",
   "metadata": {},
   "source": [
    "### Scatter marks are draggable! Move the mouse while clicking on them..."
   ]
  },
  {
   "cell_type": "code",
   "execution_count": null,
   "metadata": {},
   "outputs": [],
   "source": [
    "x = np.random.rand(n_points)\n",
    "y = np.random.rand(n_points)\n",
    "sizes = np.random.randint(2, 8, n_points)\n",
    "colors = np.random.rand(n_points) * 10 - 2\n",
    "\n",
    "plot = Scatter_plot(x, y, sizes, colors, branca.colormap.linear.viridis, stroke_color='white')\n",
    "plot"
   ]
  },
  {
   "cell_type": "markdown",
   "metadata": {},
   "source": [
    "### Because it's a Canvas, you can draw on top of it! "
   ]
  },
  {
   "cell_type": "code",
   "execution_count": null,
   "metadata": {},
   "outputs": [],
   "source": [
    "plot.canvas[1].stroke_style = 'red'\n",
    "plot.canvas[1].line_width = 2\n",
    "plot.canvas[1].stroke_rect(200, 300, 50, 100)"
   ]
  },
  {
   "cell_type": "markdown",
   "metadata": {},
   "source": [
    "# Line plot"
   ]
  },
  {
   "cell_type": "code",
   "execution_count": null,
   "metadata": {},
   "outputs": [],
   "source": [
    "x = np.linspace(0, 20, 500)\n",
    "y = np.sin(x)\n",
    "\n",
    "line_plot(x, y, line_width=3)"
   ]
  },
  {
   "cell_type": "code",
   "execution_count": null,
   "metadata": {},
   "outputs": [],
   "source": [
    "slider = IntSlider(min=1, max=10, step=1)\n",
    "\n",
    "x = np.linspace(-20, 20, 500)\n",
    "y = np.power(x, slider.value)\n",
    "\n",
    "power_plot = line_plot(x, y, line_color='#32a852', line_width=3)\n",
    "\n",
    "def on_slider_change(change):\n",
    "    y = np.power(x, slider.value)\n",
    "\n",
    "    line_plot(x, y, line_color='#32a852', line_width=3, canvas=power_plot)\n",
    "\n",
    "slider.observe(on_slider_change, 'value')\n",
    "\n",
    "VBox((power_plot, slider))"
   ]
  },
  {
   "cell_type": "code",
   "execution_count": null,
   "metadata": {},
   "outputs": [],
   "source": [
    "n = 1_000\n",
    "x = np.linspace(0, 100, n)\n",
    "y = np.cumsum(np.random.randn(n))\n",
    "\n",
    "line_plot(x, y, line_width=3)"
   ]
  },
  {
   "cell_type": "markdown",
   "metadata": {},
   "source": [
    "# Heatmap"
   ]
  },
  {
   "cell_type": "code",
   "execution_count": null,
   "metadata": {},
   "outputs": [],
   "source": [
    "x = np.linspace(-5, 5, 100)\n",
    "y = np.linspace(-5, 5, 100)\n",
    "x_grid, y_grid = np.meshgrid(x, y)\n",
    "color = np.sin(x_grid + y_grid**2) + np.cos(x_grid**2 + y_grid**2)\n",
    "\n",
    "heatmap_plot(x, y, color, scheme=branca.colormap.linear.RdYlBu_05)"
   ]
  },
  {
   "cell_type": "code",
   "execution_count": null,
   "metadata": {},
   "outputs": [],
   "source": []
  }
 ],
 "metadata": {
  "kernelspec": {
   "display_name": "Python 3",
   "language": "python",
   "name": "python3"
  },
  "language_info": {
   "codemirror_mode": {
    "name": "ipython",
    "version": 3
   },
   "file_extension": ".py",
   "mimetype": "text/x-python",
   "name": "python",
   "nbconvert_exporter": "python",
   "pygments_lexer": "ipython3",
   "version": "3.7.3"
  }
 },
 "nbformat": 4,
 "nbformat_minor": 4
}
